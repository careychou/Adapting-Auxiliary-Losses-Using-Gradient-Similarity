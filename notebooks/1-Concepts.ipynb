{
 "cells": [
  {
   "cell_type": "markdown",
   "metadata": {
    "colab_type": "text",
    "id": "gQPGiNV4Ppq3"
   },
   "source": [
    "# Implementation of some of concepts from Adapting Auxiliary Losses Using Gradient Similarity "
   ]
  },
  {
   "cell_type": "markdown",
   "metadata": {
    "colab_type": "text",
    "id": "tvf_vZHbPpq7"
   },
   "source": [
    "## Import neccessary python libraries"
   ]
  },
  {
   "cell_type": "code",
   "execution_count": 1,
   "metadata": {
    "colab": {},
    "colab_type": "code",
    "id": "XAYbthymPpq-"
   },
   "outputs": [],
   "source": [
    "import matplotlib.pyplot as plt # plotting and data visualization\n",
    "import numpy as np # numerical operations\n",
    "from sklearn.metrics.pairwise import cosine_similarity\n",
    "import tensorflow as tf # ML framework of choice\n",
    "\n",
    "# Pretty new capability to compute in fly - simillar to pytorch/numpy, with little performance drop\n",
    "tf.enable_eager_execution() "
   ]
  },
  {
   "cell_type": "markdown",
   "metadata": {
    "colab_type": "text",
    "id": "-bLEaAdbPprF"
   },
   "source": [
    "## Figure 7: Illustration of cosine similarity between gradients on synthetic loss surfaces."
   ]
  },
  {
   "cell_type": "markdown",
   "metadata": {
    "colab_type": "text",
    "id": "eM4QLzktPprH"
   },
   "source": [
    "Helper functions"
   ]
  },
  {
   "cell_type": "code",
   "execution_count": 2,
   "metadata": {
    "colab": {},
    "colab_type": "code",
    "id": "-PrQJnHKPprI"
   },
   "outputs": [],
   "source": [
    "def plot_gradients(x0, y0, dx, dy, ax, color):\n",
    "    \"\"\"Plots gradients of given points and steps with arrows\"\"\"\n",
    "    if dy>0:\n",
    "        dy = -dy\n",
    "        dx = -dx\n",
    "    ax.quiver(x0, y0, dx, dy, color=color, angles='xy', scale=1, width = 0.01) #plot arrows on given arrow\n",
    "    \n",
    "main = lambda x: (x - 10)**2 # calculates main function value\n",
    "aux = lambda x: x**2 # calculates aux function value\n",
    "\n",
    "def prep_plot(ax, x_lim, y_lim):\n",
    "    \"\"\" Prepares plot, to not repeat same procedure twice and make code a bit tidyier.\"\"\"\n",
    "    \n",
    "    ax.set_xlim(*x_lim) # limit xaxis\n",
    "    ax.set_ylim(*y_lim) # limit yaxis\n",
    "    \n",
    "    # Disable x,y axis ticks (as in paper)\n",
    "    ax.xaxis.set_ticks_position('none') # remove xticks - as in paper\n",
    "    ax.yaxis.set_ticks_position('none') # remove yticks - as in paper\n",
    "\n",
    "    # Plot Vertical lines \n",
    "    ax.axvline(x=-20, linestyle='--', color='g', linewidth = 2.0) # plot first starting point vertical line\n",
    "    ax.axvline(x=5, linestyle='--', color='y', linewidth = 2.0) # plot second starting point vertical line"
   ]
  },
  {
   "cell_type": "markdown",
   "metadata": {
    "colab_type": "text",
    "id": "J4_XIcFYPprN"
   },
   "source": [
    "Let's recreate these figures."
   ]
  },
  {
   "cell_type": "code",
   "execution_count": 3,
   "metadata": {
    "colab": {
     "base_uri": "https://localhost:8080/",
     "height": 262
    },
    "colab_type": "code",
    "id": "ua4gwuJMPprO",
    "outputId": "f2c18c50-af64-45cd-eebb-ab70d9e19771"
   },
   "outputs": [
    {
     "data": {
      "text/plain": [
       "Text(0.5, 0, '$\\\\theta$')"
      ]
     },
     "execution_count": 3,
     "metadata": {},
     "output_type": "execute_result"
    },
    {
     "data": {
      "image/png": "[encoded data removed]",
      "text/plain": [
       "<Figure size 720x216 with 2 Axes>"
      ]
     },
     "metadata": {
      "needs_background": "light"
     },
     "output_type": "display_data"
    }
   ],
   "source": [
    "dx = 0.01 # set step for parameter theta <- should be enough to make it look nice\n",
    "\n",
    "fig = plt.figure(figsize=(10, 3)) #create figure with specific size\n",
    "\n",
    "# First subplot\n",
    "ax1 = fig.add_subplot(121)\n",
    "\n",
    "# Prepare axis\n",
    "prep_plot(ax1, (-21,30), (-150, 850))\n",
    "\n",
    "x = np.arange(-25,30, dx) # create vector with theta values\n",
    "y_main = main(x) # calculate main function value\n",
    "y_aux = aux(x) # calculate auxiliary function value\n",
    "main_grad = np.gradient(y_main) # calculate main function value\n",
    "aux_grad = np.gradient(y_aux) # calculate main function value\n",
    "\n",
    "ax1.plot(x, y_main, linewidth = 2.0, color = 'b', label=r'$\\mathcal{L}_{main} = (\\theta-10)^2$')\n",
    "ax1.plot(x, y_aux, linewidth = 2.0, color = 'r', label=r'$\\mathcal{L}_{main} = \\theta^2$')\n",
    "\n",
    "plot_gradients(-20, y_main[np.isclose(x,-20)], dx, main_grad[np.isclose(x,-20)], ax1, color = 'b')\n",
    "plot_gradients(-20, y_aux[np.isclose(x,-20)], dx, aux_grad[np.isclose(x,-20)], ax1, color = 'r')\n",
    "\n",
    "plot_gradients(5, y_main[np.isclose(x,5)], dx, main_grad[np.isclose(x,5)], ax1, color = 'b')\n",
    "plot_gradients(5, y_aux[np.isclose(x,5)], dx, aux_grad[np.isclose(x,5)], ax1, color = 'r')\n",
    "\n",
    "plt.xlabel(r'$\\theta$')\n",
    "ax1.legend(frameon=False) # Show legend - as in paper.\n",
    "\n",
    "# Second subplot\n",
    "ax2 = fig.add_subplot(122)\n",
    "\n",
    "# Calculate gradient of cosine similarity with specified parameter range\n",
    "cos_sim = cosine_similarity(main_grad.reshape(-1, 1), \\\n",
    "                            aux_grad.reshape(-1, 1))[np.where(np.eye(len(main_grad)))]\n",
    "\n",
    "# Prepare axis\n",
    "prep_plot(ax2, (-25,30), (-1.5, 1.5))\n",
    "\n",
    "# Plot Gradient Cosine Similarity\n",
    "ax2.plot(x, cos_sim, linewidth = 2.0, color = 'black')\n",
    "\n",
    "plt.title(\"Gradient Cosine Similarity\", size = 14)\n",
    "plt.xlabel(r'$\\theta$')"
   ]
  },
  {
   "cell_type": "markdown",
   "metadata": {
    "colab_type": "text",
    "id": "6umX2z2NPprU"
   },
   "source": [
    "## Algorithm 1"
   ]
  },
  {
   "cell_type": "markdown",
   "metadata": {
    "colab_type": "text",
    "id": "mVnQAznWPprW"
   },
   "source": [
    "### Algorithm implementation using CNN toy model with training on MNIST dataset\n",
    "* main task: binary classification of numbers: 1 vs 2\n",
    "* auxiliary task: binary classification of numbers: 3 vs 4\n",
    "* 2 shared CNN layers\n",
    "* 2 Dense specific layers (1 hidden and last for final classification)"
   ]
  },
  {
   "cell_type": "markdown",
   "metadata": {
    "colab_type": "text",
    "id": "UWQeCUvbPprX"
   },
   "source": [
    "Load mnist data"
   ]
  },
  {
   "cell_type": "code",
   "execution_count": 4,
   "metadata": {
    "colab": {},
    "colab_type": "code",
    "id": "nJ0ALLyyPprY"
   },
   "outputs": [],
   "source": [
    "(x_train, y_train), (x_test, y_test) = tf.keras.datasets.mnist.load_data()"
   ]
  },
  {
   "cell_type": "markdown",
   "metadata": {
    "colab_type": "text",
    "id": "kGrQkMUYPprb"
   },
   "source": [
    "Rescale images to (0,1)"
   ]
  },
  {
   "cell_type": "code",
   "execution_count": 5,
   "metadata": {
    "colab": {},
    "colab_type": "code",
    "id": "JovcIcK4Pprc"
   },
   "outputs": [],
   "source": [
    "x_train, x_test = x_train / 255.0, x_test / 255.0"
   ]
  },
  {
   "cell_type": "markdown",
   "metadata": {
    "colab_type": "text",
    "id": "6A-WqTmiPpre"
   },
   "source": [
    "Add channel axis"
   ]
  },
  {
   "cell_type": "code",
   "execution_count": 6,
   "metadata": {
    "colab": {},
    "colab_type": "code",
    "id": "aCk739izPprg"
   },
   "outputs": [],
   "source": [
    "x_train, x_test = np.expand_dims(x_train,-1), np.expand_dims(x_test,-1)"
   ]
  },
  {
   "cell_type": "markdown",
   "metadata": {
    "colab_type": "text",
    "id": "24DXLW5WPprk"
   },
   "source": [
    "Find task specific samples' indices"
   ]
  },
  {
   "cell_type": "code",
   "execution_count": 7,
   "metadata": {
    "colab": {},
    "colab_type": "code",
    "id": "9W-DbfjJPprl"
   },
   "outputs": [],
   "source": [
    "which_main_train = [x in [1,2] for x in y_train]\n",
    "which_main_test = [x in [1,2] for x in y_test]\n",
    "which_aux_train = [x in [3,4] for x in y_train]"
   ]
  },
  {
   "cell_type": "markdown",
   "metadata": {
    "colab_type": "text",
    "id": "6fysSzV-Pprn"
   },
   "source": [
    "Select only samples which are needed for main and aux tasks"
   ]
  },
  {
   "cell_type": "code",
   "execution_count": 8,
   "metadata": {
    "colab": {},
    "colab_type": "code",
    "id": "FUBj_g-jPpro"
   },
   "outputs": [],
   "source": [
    "y_train_main = y_train[which_main_train]\n",
    "y_test_main = y_test[which_main_test]\n",
    "y_train_aux = y_train[which_aux_train]"
   ]
  },
  {
   "cell_type": "markdown",
   "metadata": {
    "colab_type": "text",
    "id": "Xzwrt8EbPprq"
   },
   "source": [
    "Transform labels to [0,1]"
   ]
  },
  {
   "cell_type": "code",
   "execution_count": 9,
   "metadata": {
    "colab": {},
    "colab_type": "code",
    "id": "nOhC5r2sPprr"
   },
   "outputs": [],
   "source": [
    "y_train_main = (y_train_main==y_train_main.max()).astype('int')\n",
    "y_test_main = (y_test_main==y_test_main.max()).astype('int')\n",
    "y_train_aux = (y_train_aux==y_train_main.max()).astype('int')"
   ]
  },
  {
   "cell_type": "markdown",
   "metadata": {
    "colab_type": "text",
    "id": "X5cBN4MUPprt"
   },
   "source": [
    "Create Dataset object for easy data manipulations"
   ]
  },
  {
   "cell_type": "code",
   "execution_count": 10,
   "metadata": {
    "colab": {
     "base_uri": "https://localhost:8080/",
     "height": 71
    },
    "colab_type": "code",
    "id": "P8rf6SoXPprt",
    "outputId": "855032cc-fb48-4c0f-85c1-f90ae32ca01d"
   },
   "outputs": [],
   "source": [
    "train_ds_main = tf.data.Dataset.from_tensor_slices((x_train[which_main_train], y_train_main))\n",
    "train_ds_main = train_ds_main.map(lambda x, y: (tf.to_float(x), tf.one_hot(y, 2))).shuffle(1000)\n",
    "test_ds_main = tf.data.Dataset.from_tensor_slices((x_test[which_main_test], y_test_main))\n",
    "test_ds_main = test_ds_main.map(lambda x, y: (tf.to_float(x), tf.one_hot(y, 2))).shuffle(1000)\n",
    "train_ds_aux = tf.data.Dataset.from_tensor_slices((x_train[which_aux_train], y_train_aux))\n",
    "train_ds_aux = train_ds_aux.map(lambda x, y: (tf.to_float(x), tf.one_hot(y, 2))).shuffle(1000)"
   ]
  },
  {
   "cell_type": "markdown",
   "metadata": {
    "colab_type": "text",
    "id": "K8pEZ7lAPprv"
   },
   "source": [
    "Define few helper functions"
   ]
  },
  {
   "cell_type": "code",
   "execution_count": 11,
   "metadata": {
    "colab": {},
    "colab_type": "code",
    "id": "4jZI6P9LPprw"
   },
   "outputs": [],
   "source": [
    "def loss_fn(y_true, y_pred):\n",
    "    \"\"\"Computes loss function using softmax activation function and categorical cross entropy.\n",
    "    \"\"\"\n",
    "\n",
    "    return tf.reduce_mean(\n",
    "      tf.nn.softmax_cross_entropy_with_logits_v2(\n",
    "          logits=y_pred, labels=y_true))\n",
    "\n",
    "def get_avg_acc_loss(dataset, model):\n",
    "    \"\"\"Helper function for measuring average loss and accurancy of model.\n",
    "    \"\"\"\n",
    "\n",
    "    def get_accuracy(y_true, y_pred):\n",
    "        y_pred = tf.argmax(y_pred, 1)\n",
    "        equality = tf.equal(y_pred, tf.argmax(y_true, 1))\n",
    "        accuracy = tf.reduce_mean(tf.cast(equality, tf.float32))\n",
    "        return accuracy\n",
    "    \n",
    "    avg_acc = tf.Variable(0,dtype=tf.float32)\n",
    "    avg_loss = tf.Variable(0,dtype=tf.float32)\n",
    "    for (batch, (images, labels)) in enumerate(dataset.batch(500, drop_remainder=True)):\n",
    "        avg_acc = tf.math.add(avg_acc,get_accuracy(labels, model(images)))\n",
    "        avg_loss = tf.math.add(avg_loss,loss_fn(labels, model(images)))\n",
    "    \n",
    "    return avg_acc/(batch+1), avg_loss/(batch+1)\n",
    "\n",
    "def get_models(input_shape = x_train.shape[1:]):\n",
    "    \"\"\"Returns very simple CNN tf.keras.Model instance with N-1 shared layers for both tasks and single task-specific layer.\n",
    "    \"\"\"\n",
    "\n",
    "    inp = tf.keras.layers.Input(shape = input_shape)\n",
    "    x = tf.keras.layers.Conv2D(32, 3,padding='same',activation='relu')(inp)\n",
    "    x = tf.keras.layers.MaxPooling2D((2, 2), (2, 2), padding='same')(x)\n",
    "    x = tf.keras.layers.Conv2D(64, 3,padding='same',activation='relu')(x)\n",
    "    x = tf.keras.layers.MaxPooling2D((2, 2), (2, 2), padding='same')(x)\n",
    "    x = tf.keras.layers.Flatten()(x)\n",
    "\n",
    "    main = tf.keras.layers.Dense(128, activation='relu')(x)\n",
    "    aux = tf.keras.layers.Dense(128, activation='relu')(x)\n",
    "    main = tf.keras.layers.Dense(2)(main)\n",
    "    aux = tf.keras.layers.Dense(2)(aux)\n",
    "\n",
    "    return (tf.keras.Model(inputs = inp, outputs = main), tf.keras.Model(inputs = inp, outputs = aux))\n",
    "\n",
    "def get_grad_cos_sim(grad1, grad2, sep_ind):\n",
    "    \"\"\"Computes cos simillarity of gradients after flattening of tensors.\n",
    "    \"\"\"\n",
    "    grad1 = tf.concat([tf.reshape(x,shape=(-1,)) for x in grad1[:sep_ind]], axis = 0)\n",
    "    grad2 = tf.concat([tf.reshape(x,shape=(-1,)) for x in grad2[:sep_ind]], axis = 0)\n",
    "    return 1 - tf.losses.cosine_distance(grad1,grad2,axis = 0)"
   ]
  },
  {
   "cell_type": "markdown",
   "metadata": {
    "colab_type": "text",
    "id": "vj0joYU_Pprz"
   },
   "source": [
    "#### Test algorythm by training"
   ]
  },
  {
   "cell_type": "code",
   "execution_count": 12,
   "metadata": {
    "colab": {
     "base_uri": "https://localhost:8080/",
     "height": 271
    },
    "colab_type": "code",
    "id": "HdRdqQs9Ppr0",
    "outputId": "7d781a4e-4e9c-4c14-87b3-d92c6f620f75"
   },
   "outputs": [
    {
     "name": "stdout",
     "output_type": "stream",
     "text": [
      "Epoch:1 | loss=0.157 acc=96.70% | val_loss=0.159 val_acc=96.95% | comb_up=71.0%\n",
      "Epoch:2 | loss=0.083 acc=97.74% | val_loss=0.076 val_acc=98.40% | comb_up=90.0%\n",
      "Epoch:3 | loss=0.052 acc=98.61% | val_loss=0.042 val_acc=99.30% | comb_up=99.0%\n",
      "Epoch:4 | loss=0.044 acc=98.73% | val_loss=0.032 val_acc=99.25% | comb_up=97.0%\n",
      "Epoch:5 | loss=0.046 acc=98.46% | val_loss=0.035 val_acc=99.00% | comb_up=99.0%\n",
      "Epoch:6 | loss=0.044 acc=98.54% | val_loss=0.030 val_acc=99.20% | comb_up=100.0%\n",
      "Epoch:7 | loss=0.050 acc=98.78% | val_loss=0.040 val_acc=99.35% | comb_up=97.0%\n",
      "Epoch:8 | loss=0.042 acc=98.68% | val_loss=0.029 val_acc=99.40% | comb_up=99.0%\n",
      "Epoch:9 | loss=0.044 acc=98.74% | val_loss=0.033 val_acc=99.35% | comb_up=97.0%\n",
      "Epoch:10 | loss=0.040 acc=98.86% | val_loss=0.030 val_acc=99.40% | comb_up=97.0%\n"
     ]
    }
   ],
   "source": [
    "model_main, model_aux = get_models()\n",
    "\n",
    "optimizer = tf.train.GradientDescentOptimizer(learning_rate=0.01)\n",
    "\n",
    "epochs = 10 # number of epochs\n",
    "steps = 100 # numbers of steps per epoch\n",
    "priv_layers = 2 # defines how much layers are task specific\n",
    "priv_ind = -2 * priv_layers # task specific layers are usually last and they by default come with bias - another variable\n",
    "\n",
    "# Main training loop\n",
    "for epoch in range(epochs):\n",
    "    combined_updates = 0\n",
    "    # Iterate over both main and aux task training samples\n",
    "    for (batch, ((images_main, labels_main), (images_aux, labels_aux))) in enumerate(\n",
    "        zip(train_ds_main.batch(1), train_ds_aux.batch(1))):\n",
    "\n",
    "        # Break if we already did enough steps\n",
    "        if batch == steps:\n",
    "            break\n",
    "\n",
    "        # Compute losses\n",
    "        with tf.GradientTape() as tape_main:\n",
    "            loss_main = loss_fn(labels_main, model_main(images_main))\n",
    "\n",
    "        with tf.GradientTape() as tape_aux:\n",
    "            loss_aux = loss_fn(labels_aux, model_aux(images_aux))\n",
    "\n",
    "        # 3: compute gradients for shared and private parameters of both tasks\n",
    "        grads_main = tape_main.gradient(loss_main, model_main.variables)\n",
    "        grads_aux = tape_aux.gradient(loss_aux, model_aux.variables)\n",
    "\n",
    "        # 4: update private parameters\n",
    "        optimizer.apply_gradients(\n",
    "            zip(\n",
    "                grads_main[priv_ind:], \n",
    "                model_main.variables[priv_ind:]))\n",
    "                \n",
    "        optimizer.apply_gradients(\n",
    "            zip(\n",
    "                grads_aux[priv_ind:], \n",
    "                model_aux.variables[priv_ind:]))\n",
    "\n",
    "        # 5+: compute cosine similarity for shared gradients of both tasks and decide how to update shared parameters\n",
    "        # Upgrading only main model will case aux model to update at the same time - they share layers and weights\n",
    "        if get_grad_cos_sim(grads_main, grads_aux, priv_ind)>=0:\n",
    "            grad_sum = [x1+x2 for (x1, x2) in zip(grads_main[:priv_ind],grads_aux[:priv_ind])]\n",
    "            optimizer.apply_gradients(\n",
    "                zip(\n",
    "                    grad_sum, \n",
    "                    model_main.variables[:priv_ind]))\n",
    "            combined_updates+=1\n",
    "        else:\n",
    "            optimizer.apply_gradients(\n",
    "                zip(\n",
    "                    grads_main[:priv_ind], \n",
    "                    model_main.variables[:priv_ind]))\n",
    "\n",
    "    # Compute average loss and accurancy for both training and test subset of main task samples\n",
    "    avg_acc, avg_loss = get_avg_acc_loss(train_ds_main, model_main)\n",
    "    test_avg_acc, test_avg_loss = get_avg_acc_loss(test_ds_main, model_main)\n",
    "    \n",
    "    # Print stats\n",
    "    print(\"Epoch:{} | loss={:.3f} acc={:.2f}% | val_loss={:.3f} val_acc={:.2f}% | comb_up={:.1f}%\".\\\n",
    "    format(epoch+1, avg_loss.numpy(), avg_acc.numpy()*100,test_avg_loss.numpy(), test_avg_acc.numpy()*100, combined_updates/steps*100))"
   ]
  }
 ],
 "metadata": {
  "accelerator": "GPU",
  "colab": {
   "collapsed_sections": [],
   "name": "1-Concepts.ipynb",
   "provenance": [],
   "version": "0.3.2"
  },
  "kernelspec": {
   "display_name": "Python 3",
   "language": "python",
   "name": "python3"
  },
  "language_info": {
   "codemirror_mode": {
    "name": "ipython",
    "version": 3
   },
   "file_extension": ".py",
   "mimetype": "text/x-python",
   "name": "python",
   "nbconvert_exporter": "python",
   "pygments_lexer": "ipython3",
   "version": "3.6.8"
  }
 },
 "nbformat": 4,
 "nbformat_minor": 2
}
